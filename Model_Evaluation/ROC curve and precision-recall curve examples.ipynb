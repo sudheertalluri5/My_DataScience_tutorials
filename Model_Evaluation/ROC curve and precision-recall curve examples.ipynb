{
 "cells": [
  {
   "cell_type": "code",
   "execution_count": 2,
   "metadata": {},
   "outputs": [
    {
     "name": "stdout",
     "output_type": "stream",
     "text": [
      "No Skill: ROC AUC=0.500\n",
      "Logistic: ROC AUC=0.903\n"
     ]
    },
    {
     "data": {
      "image/png": "[encoded data removed]",
      "text/plain": [
       "<Figure size 432x288 with 1 Axes>"
      ]
     },
     "metadata": {
      "needs_background": "light"
     },
     "output_type": "display_data"
    }
   ],
   "source": [
    " # roc curve and auc\n",
    "from sklearn.datasets import make_classification\n",
    "from sklearn.linear_model import LogisticRegression\n",
    "from sklearn.model_selection import train_test_split\n",
    "from sklearn.metrics import roc_curve\n",
    "from sklearn.metrics import roc_auc_score\n",
    "from matplotlib import pyplot\n",
    "%matplotlib inline\n",
    "# generate 2 class dataset\n",
    "X, y = make_classification(n_samples=1000, n_classes=2, random_state=1)\n",
    "# split into train/test sets\n",
    "trainX, testX, trainy, testy = train_test_split(X, y, test_size=0.5, random_state=2)\n",
    "# generate a no skill prediction (majority class)\n",
    "ns_probs = [0 for _ in range(len(testy))]\n",
    "# fit a model\n",
    "model = LogisticRegression(solver='lbfgs')\n",
    "model.fit(trainX, trainy)\n",
    "# predict probabilities\n",
    "lr_probs = model.predict_proba(testX)\n",
    "# keep probabilities for the positive outcome only\n",
    "lr_probs = lr_probs[:, 1]\n",
    "# calculate scores\n",
    "ns_auc = roc_auc_score(testy, ns_probs)\n",
    "lr_auc = roc_auc_score(testy, lr_probs)\n",
    "# summarize scores\n",
    "print('No Skill: ROC AUC=%.3f' % (ns_auc))\n",
    "print('Logistic: ROC AUC=%.3f' % (lr_auc))\n",
    "# calculate roc curves\n",
    "ns_fpr, ns_tpr, _ = roc_curve(testy, ns_probs)\n",
    "lr_fpr, lr_tpr, _ = roc_curve(testy, lr_probs)\n",
    "# plot the roc curve for the model\n",
    "pyplot.plot(ns_fpr, ns_tpr, linestyle='--', label='No Skill')\n",
    "pyplot.plot(lr_fpr, lr_tpr, marker='.', label='Logistic')\n",
    "# axis labels\n",
    "pyplot.xlabel('False Positive Rate')\n",
    "pyplot.ylabel('True Positive Rate')\n",
    "# show the legend\n",
    "pyplot.legend()\n",
    "# show the plot\n",
    "pyplot.show()"
   ]
  },
  {
   "cell_type": "code",
   "execution_count": 3,
   "metadata": {},
   "outputs": [
    {
     "data": {
      "text/plain": [
       "(1000, 20)"
      ]
     },
     "execution_count": 3,
     "metadata": {},
     "output_type": "execute_result"
    }
   ],
   "source": [
    "X.shape"
   ]
  },
  {
   "cell_type": "code",
   "execution_count": 8,
   "metadata": {},
   "outputs": [
    {
     "data": {
      "text/plain": [
       "(1000,)"
      ]
     },
     "execution_count": 8,
     "metadata": {},
     "output_type": "execute_result"
    }
   ],
   "source": [
    "y.shape"
   ]
  },
  {
   "cell_type": "code",
   "execution_count": 10,
   "metadata": {},
   "outputs": [
    {
     "name": "stdout",
     "output_type": "stream",
     "text": [
      "Logistic: f1=0.841 auc=0.898\n"
     ]
    },
    {
     "data": {
      "image/png": "[encoded data removed]",
      "text/plain": [
       "<Figure size 432x288 with 1 Axes>"
      ]
     },
     "metadata": {
      "needs_background": "light"
     },
     "output_type": "display_data"
    }
   ],
   "source": [
    "# precision-recall curve and f1\n",
    "from sklearn.datasets import make_classification\n",
    "from sklearn.linear_model import LogisticRegression\n",
    "from sklearn.model_selection import train_test_split\n",
    "from sklearn.metrics import precision_recall_curve\n",
    "from sklearn.metrics import f1_score\n",
    "from sklearn.metrics import auc\n",
    "from matplotlib import pyplot\n",
    "# generate 2 class dataset\n",
    "X, y = make_classification(n_samples=1000, n_classes=2, random_state=1)\n",
    "# split into train/test sets\n",
    "trainX, testX, trainy, testy = train_test_split(X, y, test_size=0.5, random_state=2)\n",
    "# fit a model\n",
    "model = LogisticRegression(solver='lbfgs')\n",
    "model.fit(trainX, trainy)\n",
    "# predict probabilities\n",
    "lr_probs = model.predict_proba(testX)\n",
    "# keep probabilities for the positive outcome only\n",
    "lr_probs = lr_probs[:, 1]\n",
    "# predict class values\n",
    "yhat = model.predict(testX)\n",
    "lr_precision, lr_recall, thresholds = precision_recall_curve(testy, lr_probs)\n",
    "lr_f1, lr_auc = f1_score(testy, yhat), auc(lr_recall, lr_precision)\n",
    "# summarize scores\n",
    "print('Logistic: f1=%.3f auc=%.3f' % (lr_f1, lr_auc))\n",
    "# plot the precision-recall curves\n",
    "no_skill = len(testy[testy==1]) / len(testy)\n",
    "pyplot.plot([0, 1], [no_skill, no_skill], linestyle='--', label='No Skill')\n",
    "pyplot.plot(lr_recall, lr_precision, marker='.', label='Logistic')\n",
    "# axis labels\n",
    "pyplot.xlabel('Recall')\n",
    "pyplot.ylabel('Precision')\n",
    "# show the legend\n",
    "pyplot.legend()\n",
    "# show the plot\n",
    "pyplot.show()"
   ]
  },
  {
   "cell_type": "markdown",
   "metadata": {},
   "source": [
    "# in both precision-recall and roc we can have our own thresholds based on the problem statements and then we can change the model accordingly..."
   ]
  },
  {
   "cell_type": "code",
   "execution_count": 11,
   "metadata": {},
   "outputs": [
    {
     "data": {
      "text/plain": [
       "array([0.0061375 , 0.00623691, 0.0064424 , 0.00653738, 0.00726041,\n",
       "       0.00734682, 0.00766567, 0.00784434, 0.00840961, 0.00853147,\n",
       "       0.00982576, 0.00990189, 0.01078958, 0.01091326, 0.01109581,\n",
       "       0.01124999, 0.01150186, 0.01178817, 0.01316008, 0.01362884,\n",
       "       0.01448625, 0.01456612, 0.0149319 , 0.01535169, 0.01536855,\n",
       "       0.01573618, 0.01609661, 0.01622196, 0.0164944 , 0.01670873,\n",
       "       0.01687254, 0.01772698, 0.01816147, 0.01833387, 0.01883805,\n",
       "       0.01948233, 0.01976314, 0.02025545, 0.02026496, 0.02048157,\n",
       "       0.02098802, 0.02219348, 0.02254649, 0.02303748, 0.02346338,\n",
       "       0.02356296, 0.024916  , 0.02612302, 0.02705581, 0.02725422,\n",
       "       0.02746494, 0.02789239, 0.02822508, 0.02878455, 0.0308426 ,\n",
       "       0.03104743, 0.03189746, 0.03299071, 0.0330417 , 0.03505448,\n",
       "       0.03525352, 0.0353878 , 0.03827228, 0.03958787, 0.04035232,\n",
       "       0.04047562, 0.04058896, 0.04184629, 0.04277052, 0.0445083 ,\n",
       "       0.04654308, 0.04757288, 0.04893669, 0.0500077 , 0.05001239,\n",
       "       0.05092053, 0.05326896, 0.05459503, 0.0551925 , 0.05531273,\n",
       "       0.05844972, 0.06133079, 0.06176524, 0.06208075, 0.06780154,\n",
       "       0.06870092, 0.07106038, 0.07299659, 0.07818793, 0.07957945,\n",
       "       0.07987985, 0.08156958, 0.08182919, 0.0825642 , 0.08282456,\n",
       "       0.08338773, 0.08401928, 0.08472896, 0.08493682, 0.0855738 ,\n",
       "       0.08836598, 0.0897203 , 0.09008863, 0.09152662, 0.09174621,\n",
       "       0.09312247, 0.09836353, 0.10200446, 0.10785951, 0.11110143,\n",
       "       0.11468331, 0.12285959, 0.13790967, 0.13892401, 0.1410551 ,\n",
       "       0.14208282, 0.14458368, 0.14480389, 0.14631559, 0.15237419,\n",
       "       0.15695751, 0.15706774, 0.15975638, 0.16242005, 0.16440517,\n",
       "       0.16637849, 0.16674238, 0.17006992, 0.17205344, 0.17420629,\n",
       "       0.17997408, 0.18444337, 0.1986913 , 0.2077944 , 0.20917002,\n",
       "       0.2145841 , 0.22387466, 0.22662487, 0.22954401, 0.23052555,\n",
       "       0.23294238, 0.25180956, 0.2613767 , 0.26523576, 0.27359862,\n",
       "       0.27523428, 0.27560329, 0.27712672, 0.27720222, 0.27934593,\n",
       "       0.27955959, 0.2823017 , 0.2884278 , 0.28872689, 0.29433348,\n",
       "       0.296744  , 0.29757632, 0.30231973, 0.30687378, 0.31054967,\n",
       "       0.31783554, 0.3189871 , 0.31931866, 0.31988777, 0.32240757,\n",
       "       0.32461793, 0.3252644 , 0.32537238, 0.32733172, 0.33101115,\n",
       "       0.33988773, 0.34070762, 0.34291795, 0.35528674, 0.35612682,\n",
       "       0.3641128 , 0.36733873, 0.37461353, 0.37539768, 0.37982601,\n",
       "       0.3813071 , 0.39884009, 0.40012598, 0.40855992, 0.41028206,\n",
       "       0.42445128, 0.43377207, 0.43457205, 0.43836541, 0.43964332,\n",
       "       0.44634065, 0.45059309, 0.45382002, 0.45575366, 0.4580505 ,\n",
       "       0.4581884 , 0.46272804, 0.46320519, 0.46420703, 0.46758917,\n",
       "       0.48979604, 0.49035839, 0.49587387, 0.50006145, 0.50056175,\n",
       "       0.50161661, 0.51308804, 0.52765299, 0.52823373, 0.52953062,\n",
       "       0.53252445, 0.55054268, 0.55059807, 0.56043419, 0.56126429,\n",
       "       0.56873498, 0.56962519, 0.5705408 , 0.57082348, 0.57327526,\n",
       "       0.58235707, 0.58563977, 0.58755555, 0.58839842, 0.59043911,\n",
       "       0.59261946, 0.59632067, 0.60231971, 0.60302696, 0.61219849,\n",
       "       0.61275494, 0.61315074, 0.61482582, 0.61888672, 0.62578587,\n",
       "       0.63394367, 0.63552033, 0.63564764, 0.63604481, 0.63798552,\n",
       "       0.64002724, 0.64641947, 0.64765856, 0.64778678, 0.65186891,\n",
       "       0.65322788, 0.65663989, 0.66293732, 0.66709375, 0.67015327,\n",
       "       0.67312314, 0.67747409, 0.67809848, 0.67888682, 0.67972985,\n",
       "       0.68022296, 0.68097181, 0.68279973, 0.68691943, 0.68696329,\n",
       "       0.69224465, 0.6924054 , 0.69251278, 0.69254533, 0.69257736,\n",
       "       0.69354761, 0.69738173, 0.69840092, 0.70166133, 0.70646518,\n",
       "       0.71245079, 0.71449707, 0.71586291, 0.72343467, 0.731335  ,\n",
       "       0.7328739 , 0.74347358, 0.74578389, 0.746303  , 0.7464466 ,\n",
       "       0.74964262, 0.75518103, 0.75611217, 0.75623389, 0.75864863,\n",
       "       0.76156425, 0.76291231, 0.76306201, 0.7633118 , 0.76806022,\n",
       "       0.77944138, 0.78476848, 0.79221451, 0.79236175, 0.7927272 ,\n",
       "       0.79732583, 0.80064677, 0.80186423, 0.80765355, 0.80765819,\n",
       "       0.80805892, 0.80847265, 0.80948307, 0.8140097 , 0.8152423 ,\n",
       "       0.81627364, 0.81981628, 0.8214355 , 0.82214342, 0.8223227 ,\n",
       "       0.823318  , 0.82553943, 0.82795915, 0.82842952, 0.82878029,\n",
       "       0.83226261, 0.83379995, 0.83613338, 0.83640851, 0.84351722,\n",
       "       0.84814966, 0.84912616, 0.85340599, 0.85355471, 0.8570027 ,\n",
       "       0.85729834, 0.85766116, 0.85818773, 0.86182226, 0.86220629,\n",
       "       0.86509076, 0.86700762, 0.87628391, 0.87661242, 0.87717495,\n",
       "       0.87807834, 0.87809114, 0.87965622, 0.8808319 , 0.88249552,\n",
       "       0.88354315, 0.88504154, 0.88711281, 0.88805574, 0.88829485,\n",
       "       0.88836445, 0.88981542, 0.88983088, 0.89065751, 0.890787  ,\n",
       "       0.89181101, 0.89583005, 0.89656378, 0.90036981, 0.90377628,\n",
       "       0.90391901, 0.90925182, 0.91143248, 0.91394376, 0.91462136,\n",
       "       0.91566116, 0.91759252, 0.91876961, 0.92028553, 0.92398597,\n",
       "       0.92476505, 0.92653904, 0.92729531, 0.92821678, 0.92825968,\n",
       "       0.93253381, 0.93255199, 0.93419238, 0.93521457, 0.93692346,\n",
       "       0.93728283, 0.93852565, 0.93926026, 0.94218192, 0.9431525 ,\n",
       "       0.94490876, 0.94558128, 0.94608334, 0.9469996 , 0.94745394,\n",
       "       0.94874442, 0.94928199, 0.95399783, 0.95638276, 0.95653232,\n",
       "       0.95669447, 0.95675299, 0.95719003, 0.95790203, 0.95838164,\n",
       "       0.95887429, 0.95912277, 0.95985746, 0.96168103, 0.96195872,\n",
       "       0.96199376, 0.96480278, 0.96579444, 0.96788572, 0.96842473,\n",
       "       0.97043228, 0.97097852, 0.97112185, 0.97184297, 0.97226776,\n",
       "       0.97407065, 0.97585738, 0.97759058, 0.97911507, 0.97926526,\n",
       "       0.97977489, 0.98124734, 0.98141698, 0.98177563, 0.9820007 ,\n",
       "       0.98225882, 0.98378022, 0.98414199, 0.98482411, 0.98577582,\n",
       "       0.98603277, 0.98633982, 0.98684629, 0.98755194, 0.98802461,\n",
       "       0.98836118, 0.98986757, 0.99014455, 0.99022522, 0.99090571,\n",
       "       0.99128671, 0.99167983, 0.99240836, 0.99310909, 0.99327125,\n",
       "       0.99356608, 0.99404949, 0.99440676, 0.99443688, 0.99463397,\n",
       "       0.99478113, 0.99490749, 0.99597268, 0.99608239, 0.99705622,\n",
       "       0.99740253, 0.99757463, 0.99758718, 0.99766364, 0.99775363,\n",
       "       0.99776093, 0.99799484, 0.99809192, 0.99833335, 0.99890641,\n",
       "       0.99896542, 0.99902226, 0.99915036, 0.99956075, 0.99964926,\n",
       "       0.99981055])"
      ]
     },
     "execution_count": 11,
     "metadata": {},
     "output_type": "execute_result"
    }
   ],
   "source": [
    "thresholds "
   ]
  },
  {
   "cell_type": "markdown",
   "metadata": {},
   "source": [
    "# how roc fails in large skewed data for zero"
   ]
  },
  {
   "cell_type": "code",
   "execution_count": 12,
   "metadata": {},
   "outputs": [
    {
     "name": "stdout",
     "output_type": "stream",
     "text": [
      "No Skill: ROC AUC=0.500\n",
      "Logistic: ROC AUC=0.716\n"
     ]
    },
    {
     "data": {
      "image/png": "[encoded data removed]",
      "text/plain": [
       "<Figure size 432x288 with 1 Axes>"
      ]
     },
     "metadata": {
      "needs_background": "light"
     },
     "output_type": "display_data"
    }
   ],
   "source": [
    "# roc curve and auc on an imbalanced dataset\n",
    "from sklearn.datasets import make_classification\n",
    "from sklearn.linear_model import LogisticRegression\n",
    "from sklearn.model_selection import train_test_split\n",
    "from sklearn.metrics import roc_curve\n",
    "from sklearn.metrics import roc_auc_score\n",
    "from matplotlib import pyplot\n",
    "# generate 2 class dataset\n",
    "X, y = make_classification(n_samples=1000, n_classes=2, weights=[0.99,0.01], random_state=1)\n",
    "# split into train/test sets\n",
    "trainX, testX, trainy, testy = train_test_split(X, y, test_size=0.5, random_state=2)\n",
    "# generate a no skill prediction (majority class)\n",
    "ns_probs = [0 for _ in range(len(testy))]\n",
    "# fit a model\n",
    "model = LogisticRegression(solver='lbfgs')\n",
    "model.fit(trainX, trainy)\n",
    "# predict probabilities\n",
    "lr_probs = model.predict_proba(testX)\n",
    "# keep probabilities for the positive outcome only\n",
    "lr_probs = lr_probs[:, 1]\n",
    "# calculate scores\n",
    "ns_auc = roc_auc_score(testy, ns_probs)\n",
    "lr_auc = roc_auc_score(testy, lr_probs)\n",
    "# summarize scores\n",
    "print('No Skill: ROC AUC=%.3f' % (ns_auc))\n",
    "print('Logistic: ROC AUC=%.3f' % (lr_auc))\n",
    "# calculate roc curves\n",
    "ns_fpr, ns_tpr, _ = roc_curve(testy, ns_probs)\n",
    "lr_fpr, lr_tpr, _ = roc_curve(testy, lr_probs)\n",
    "# plot the roc curve for the model\n",
    "pyplot.plot(ns_fpr, ns_tpr, linestyle='--', label='No Skill')\n",
    "pyplot.plot(lr_fpr, lr_tpr, marker='.', label='Logistic')\n",
    "# axis labels\n",
    "pyplot.xlabel('False Positive Rate')\n",
    "pyplot.ylabel('True Positive Rate')\n",
    "# show the legend\n",
    "pyplot.legend()\n",
    "# show the plot\n",
    "pyplot.show()"
   ]
  },
  {
   "cell_type": "code",
   "execution_count": 13,
   "metadata": {},
   "outputs": [],
   "source": [
    "import pandas as pd"
   ]
  },
  {
   "cell_type": "code",
   "execution_count": 14,
   "metadata": {},
   "outputs": [
    {
     "data": {
      "text/html": [
       "<div>\n",
       "<style scoped>\n",
       "    .dataframe tbody tr th:only-of-type {\n",
       "        vertical-align: middle;\n",
       "    }\n",
       "\n",
       "    .dataframe tbody tr th {\n",
       "        vertical-align: top;\n",
       "    }\n",
       "\n",
       "    .dataframe thead th {\n",
       "        text-align: right;\n",
       "    }\n",
       "</style>\n",
       "<table border=\"1\" class=\"dataframe\">\n",
       "  <thead>\n",
       "    <tr style=\"text-align: right;\">\n",
       "      <th>col_0</th>\n",
       "      <th>0</th>\n",
       "    </tr>\n",
       "    <tr>\n",
       "      <th>row_0</th>\n",
       "      <th></th>\n",
       "    </tr>\n",
       "  </thead>\n",
       "  <tbody>\n",
       "    <tr>\n",
       "      <th>0</th>\n",
       "      <td>489</td>\n",
       "    </tr>\n",
       "    <tr>\n",
       "      <th>1</th>\n",
       "      <td>11</td>\n",
       "    </tr>\n",
       "  </tbody>\n",
       "</table>\n",
       "</div>"
      ],
      "text/plain": [
       "col_0    0\n",
       "row_0     \n",
       "0      489\n",
       "1       11"
      ]
     },
     "execution_count": 14,
     "metadata": {},
     "output_type": "execute_result"
    }
   ],
   "source": [
    "pd.crosstab(testy,model.predict(testX))"
   ]
  },
  {
   "cell_type": "markdown",
   "metadata": {},
   "source": [
    "# here we can see all are predicted as zero"
   ]
  },
  {
   "cell_type": "code",
   "execution_count": 15,
   "metadata": {},
   "outputs": [],
   "source": [
    "from sklearn.metrics import classification_report"
   ]
  },
  {
   "cell_type": "code",
   "execution_count": 17,
   "metadata": {},
   "outputs": [
    {
     "name": "stdout",
     "output_type": "stream",
     "text": [
      "              precision    recall  f1-score   support\n",
      "\n",
      "           0       0.98      1.00      0.99       489\n",
      "           1       0.00      0.00      0.00        11\n",
      "\n",
      "    accuracy                           0.98       500\n",
      "   macro avg       0.49      0.50      0.49       500\n",
      "weighted avg       0.96      0.98      0.97       500\n",
      "\n"
     ]
    },
    {
     "name": "stderr",
     "output_type": "stream",
     "text": [
      "c:\\users\\sudhe\\appdata\\local\\programs\\python\\python37\\lib\\site-packages\\sklearn\\metrics\\classification.py:1437: UndefinedMetricWarning: Precision and F-score are ill-defined and being set to 0.0 in labels with no predicted samples.\n",
      "  'precision', 'predicted', average, warn_for)\n"
     ]
    }
   ],
   "source": [
    "print(classification_report(testy,model.predict(testX)))"
   ]
  },
  {
   "cell_type": "code",
   "execution_count": 18,
   "metadata": {},
   "outputs": [
    {
     "name": "stderr",
     "output_type": "stream",
     "text": [
      "c:\\users\\sudhe\\appdata\\local\\programs\\python\\python37\\lib\\site-packages\\sklearn\\metrics\\classification.py:1437: UndefinedMetricWarning: F-score is ill-defined and being set to 0.0 due to no predicted samples.\n",
      "  'precision', 'predicted', average, warn_for)\n"
     ]
    },
    {
     "name": "stdout",
     "output_type": "stream",
     "text": [
      "Logistic: f1=0.000 auc=0.054\n"
     ]
    },
    {
     "data": {
      "image/png": "[encoded data removed]",
      "text/plain": [
       "<Figure size 432x288 with 1 Axes>"
      ]
     },
     "metadata": {
      "needs_background": "light"
     },
     "output_type": "display_data"
    }
   ],
   "source": [
    "# precision-recall curve and f1 for an imbalanced dataset\n",
    "from sklearn.datasets import make_classification\n",
    "from sklearn.linear_model import LogisticRegression\n",
    "from sklearn.model_selection import train_test_split\n",
    "from sklearn.metrics import precision_recall_curve\n",
    "from sklearn.metrics import f1_score\n",
    "from sklearn.metrics import auc\n",
    "from matplotlib import pyplot\n",
    "# generate 2 class dataset\n",
    "X, y = make_classification(n_samples=1000, n_classes=2, weights=[0.99,0.01], random_state=1)\n",
    "# split into train/test sets\n",
    "trainX, testX, trainy, testy = train_test_split(X, y, test_size=0.5, random_state=2)\n",
    "# fit a model\n",
    "model = LogisticRegression(solver='lbfgs')\n",
    "model.fit(trainX, trainy)\n",
    "# predict probabilities\n",
    "lr_probs = model.predict_proba(testX)\n",
    "# keep probabilities for the positive outcome only\n",
    "lr_probs = lr_probs[:, 1]\n",
    "# predict class values\n",
    "yhat = model.predict(testX)\n",
    "# calculate precision and recall for each threshold\n",
    "lr_precision, lr_recall, _ = precision_recall_curve(testy, lr_probs)\n",
    "# calculate scores\n",
    "lr_f1, lr_auc = f1_score(testy, yhat), auc(lr_recall, lr_precision)\n",
    "# summarize scores\n",
    "print('Logistic: f1=%.3f auc=%.3f' % (lr_f1, lr_auc))\n",
    "# plot the precision-recall curves\n",
    "no_skill = len(testy[testy==1]) / len(testy)\n",
    "pyplot.plot([0, 1], [no_skill, no_skill], linestyle='--', label='No Skill')\n",
    "pyplot.plot(lr_recall, lr_precision, marker='.', label='Logistic')\n",
    "# axis labels\n",
    "pyplot.xlabel('Recall')\n",
    "pyplot.ylabel('Precision')\n",
    "# show the legend\n",
    "pyplot.legend()\n",
    "# show the plot\n",
    "pyplot.show()"
   ]
  },
  {
   "cell_type": "markdown",
   "metadata": {},
   "source": [
    "# we can clearly see from the classification report and crosstab all are predicted as zero\n",
    "# that means this isn't a good model\n",
    "# that means it's auc shouldn't be good\n",
    "# but here 0.716 auc is far good\n",
    "# but when you see precision recall curve and it's f1-score and auc we can clearly state that this model is not good\n",
    "# so for \"imbalanced\" dataset go for precision-recall curve"
   ]
  },
  {
   "cell_type": "code",
   "execution_count": null,
   "metadata": {},
   "outputs": [],
   "source": []
  }
 ],
 "metadata": {
  "kernelspec": {
   "display_name": "Python 3",
   "language": "python",
   "name": "python3"
  },
  "language_info": {
   "codemirror_mode": {
    "name": "ipython",
    "version": 3
   },
   "file_extension": ".py",
   "mimetype": "text/x-python",
   "name": "python",
   "nbconvert_exporter": "python",
   "pygments_lexer": "ipython3",
   "version": "3.7.3"
  }
 },
 "nbformat": 4,
 "nbformat_minor": 2
}
